{
 "cells": [
  {
   "cell_type": "code",
   "execution_count": 1,
   "metadata": {
    "collapsed": false
   },
   "outputs": [
    {
     "data": {
      "application/javascript": [
       "require.undef(\"nbextensions/vpython_libraries/jquery-ui.custom.min\");"
      ],
      "text/plain": [
       "<IPython.core.display.Javascript object>"
      ]
     },
     "metadata": {},
     "output_type": "display_data"
    },
    {
     "data": {
      "application/javascript": [
       "require.undef(\"nbextensions/vpython_libraries/glow.2.1.min\");"
      ],
      "text/plain": [
       "<IPython.core.display.Javascript object>"
      ]
     },
     "metadata": {},
     "output_type": "display_data"
    },
    {
     "data": {
      "application/javascript": [
       "require.undef(\"nbextensions/vpython_libraries/glowcomm\");"
      ],
      "text/plain": [
       "<IPython.core.display.Javascript object>"
      ]
     },
     "metadata": {},
     "output_type": "display_data"
    },
    {
     "data": {
      "application/javascript": [
       "require([\"nbextensions/vpython_libraries/jquery-ui.custom.min\"], function(){console.log(\"JQUERY LOADED\");})"
      ],
      "text/plain": [
       "<IPython.core.display.Javascript object>"
      ]
     },
     "metadata": {},
     "output_type": "display_data"
    },
    {
     "data": {
      "application/javascript": [
       "require([\"nbextensions/vpython_libraries/glow.2.1.min\"], function(){console.log(\"GLOW LOADED\");})"
      ],
      "text/plain": [
       "<IPython.core.display.Javascript object>"
      ]
     },
     "metadata": {},
     "output_type": "display_data"
    },
    {
     "data": {
      "application/javascript": [
       "require([\"nbextensions/vpython_libraries/glowcomm\"], function(){console.log(\"GLOWCOMM LOADED\");})"
      ],
      "text/plain": [
       "<IPython.core.display.Javascript object>"
      ]
     },
     "metadata": {},
     "output_type": "display_data"
    },
    {
     "data": {
      "text/html": [
       "<div id=\"glowscript\" class=\"glowscript\"></div>"
      ],
      "text/plain": [
       "<IPython.core.display.HTML object>"
      ]
     },
     "metadata": {},
     "output_type": "display_data"
    },
    {
     "data": {
      "application/javascript": [
       "window.__context = { glowscript_container: $(\"#glowscript\").removeAttr(\"id\")}"
      ],
      "text/plain": [
       "<IPython.core.display.Javascript object>"
      ]
     },
     "metadata": {},
     "output_type": "display_data"
    }
   ],
   "source": [
    "from __future__ import division, print_function\n",
    "from vpython import *\n",
    "import numpy as np\n",
    "\n",
    "#Constants\n",
    "a = 20  #segment length\n",
    "d = 200 #split segment into how many parts?\n",
    "segment = np.arange(-a/2, a/2, a/d) #list of positions in segment\n",
    "y1 = 5 #y-coordinate of arrows\n",
    "k = 1 #wavenumber (in rad/(unit length))\n",
    "\n",
    "A = 0.25*a #Amplitude\n",
    "PDSF = 0.5 #Probability density scale factor\n",
    "\n",
    "Psi_arrows = []\n",
    "Prob_dens = []\n",
    "\n",
    "#Create things and add to lists\n",
    "\n",
    "for x in segment:\n",
    "    Psi_x = arrow(pos = vector(x, y1, 0),\n",
    "                  axis = vector(0, A*cos(k*x), A*sin(k*x)),\n",
    "                  color = vector((cos(k*x/2))**2,\n",
    "                           (cos(k*x/2 + (2/3)*pi))**2,\n",
    "                           (cos(k*x/2 + (4/3)*pi))**2),\n",
    "                  shaftwidth = (a/d)/2)\n",
    "\n",
    "    Psi_arrows.append(Psi_x)\n",
    "\n",
    "    Prob_dens_x = cylinder(pos = vector(x - (1/2)*(a/d), -y1, 0),\n",
    "                           axis = vector(a/d, 0, 0),\n",
    "                           radius = 0,\n",
    "                           color = color.white)\n",
    "\n",
    "    Prob_dens.append(Prob_dens_x)\n",
    "  \n",
    "for i in range(len(Psi_arrows)):\n",
    "    Psi_arrows[i].axis = vector(0,\n",
    "                                A*cos(k*Psi_arrows[i].pos.x),\n",
    "                                A*sin(k*Psi_arrows[i].pos.x))\n",
    "\n",
    "    Psi_arrows[i].color = vector((cos(k*Psi_arrows[i].pos.x/2))**2,\n",
    "                                 (cos(k*Psi_arrows[i].pos.x/2 + (2/3)*pi))**2,\n",
    "                                 (cos(k*Psi_arrows[i].pos.x/2 + (4/3)*pi))**2)\n",
    "    \n",
    "    Prob_dens[i].radius = PDSF*sqrt(Psi_arrows[i].axis.y**2 + Psi_arrows[i].axis.z**2)"
   ]
  },
  {
   "cell_type": "code",
   "execution_count": null,
   "metadata": {
    "collapsed": true
   },
   "outputs": [],
   "source": []
  }
 ],
 "metadata": {
  "anaconda-cloud": {},
  "kernelspec": {
   "display_name": "Python [conda root]",
   "language": "python",
   "name": "conda-root-py"
  },
  "language_info": {
   "codemirror_mode": {
    "name": "ipython",
    "version": 2
   },
   "file_extension": ".py",
   "mimetype": "text/x-python",
   "name": "python",
   "nbconvert_exporter": "python",
   "pygments_lexer": "ipython2",
   "version": "2.7.12"
  }
 },
 "nbformat": 4,
 "nbformat_minor": 0
}
