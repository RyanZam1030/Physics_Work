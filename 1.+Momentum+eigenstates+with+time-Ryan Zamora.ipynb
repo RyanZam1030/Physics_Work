{
 "cells": [
  {
   "cell_type": "code",
   "execution_count": null,
   "metadata": {
    "collapsed": false
   },
   "outputs": [
    {
     "data": {
      "application/javascript": [
       "require.undef(\"nbextensions/vpython_libraries/jquery-ui.custom.min\");"
      ],
      "text/plain": [
       "<IPython.core.display.Javascript object>"
      ]
     },
     "metadata": {},
     "output_type": "display_data"
    },
    {
     "data": {
      "application/javascript": [
       "require.undef(\"nbextensions/vpython_libraries/glow.2.1.min\");"
      ],
      "text/plain": [
       "<IPython.core.display.Javascript object>"
      ]
     },
     "metadata": {},
     "output_type": "display_data"
    },
    {
     "data": {
      "application/javascript": [
       "require.undef(\"nbextensions/vpython_libraries/glowcomm\");"
      ],
      "text/plain": [
       "<IPython.core.display.Javascript object>"
      ]
     },
     "metadata": {},
     "output_type": "display_data"
    },
    {
     "data": {
      "application/javascript": [
       "require([\"nbextensions/vpython_libraries/jquery-ui.custom.min\"], function(){console.log(\"JQUERY LOADED\");})"
      ],
      "text/plain": [
       "<IPython.core.display.Javascript object>"
      ]
     },
     "metadata": {},
     "output_type": "display_data"
    },
    {
     "data": {
      "application/javascript": [
       "require([\"nbextensions/vpython_libraries/glow.2.1.min\"], function(){console.log(\"GLOW LOADED\");})"
      ],
      "text/plain": [
       "<IPython.core.display.Javascript object>"
      ]
     },
     "metadata": {},
     "output_type": "display_data"
    },
    {
     "data": {
      "application/javascript": [
       "require([\"nbextensions/vpython_libraries/glowcomm\"], function(){console.log(\"GLOWCOMM LOADED\");})"
      ],
      "text/plain": [
       "<IPython.core.display.Javascript object>"
      ]
     },
     "metadata": {},
     "output_type": "display_data"
    },
    {
     "data": {
      "text/html": [
       "<div id=\"glowscript\" class=\"glowscript\"></div>"
      ],
      "text/plain": [
       "<IPython.core.display.HTML object>"
      ]
     },
     "metadata": {},
     "output_type": "display_data"
    },
    {
     "data": {
      "application/javascript": [
       "window.__context = { glowscript_container: $(\"#glowscript\").removeAttr(\"id\")}"
      ],
      "text/plain": [
       "<IPython.core.display.Javascript object>"
      ]
     },
     "metadata": {},
     "output_type": "display_data"
    }
   ],
   "source": [
    "# Modified by Ryan Zamora 10/31/2016\n",
    "from __future__ import division, print_function\n",
    "from vpython import *\n",
    "import numpy as np\n",
    "\n",
    "#Constants\n",
    "a = 20  #segment length\n",
    "d = 200 #split segment into how many parts?\n",
    "segment = np.arange(-a/2, a/2, a/d) #list of positions in segment\n",
    "\n",
    "y1 = -5 #y-coordinate of arrows\n",
    "y2 = 10 #y-coordinate of 2nd arrows\n",
    "ynet = 25 #y-coordinate of net arrows\n",
    "\n",
    "k = 1 #wavenumber (in rad/(unit length))\n",
    "k2 = -1 #wavenumber sencond eigenstate\n",
    "\n",
    "h_bar = 1 #Planck's constant\n",
    "m = 1 #particle mass\n",
    "E = (h_bar*k)**2/(2*m) #particle energy\n",
    "E2 = (h_bar*k2)**2/(2*m) #particle energy\n",
    "\n",
    "A = 0.25*a #Amplitude\n",
    "PDSF = 0.5 #Probability density scale factor\n",
    "\n",
    "t = 0\n",
    "dt = 0.01\n",
    "\n",
    "#Initializing the new and net arrows\n",
    "Psi1_arrows = []\n",
    "Psi2_arrows = []\n",
    "Psi_net_arrows =[]\n",
    "\n",
    "#Initializing the new list\n",
    "Prob_dens_net = []\n",
    "\n",
    "#Create things and add to lists\n",
    "for x in segment:\n",
    "    Psi1_x = arrow(pos = vector(x, y1, 0),\n",
    "                  axis = vector(0, A*cos(k*x), A*sin(k*x)),\n",
    "                  color = vector((cos(k*x/2))**2,\n",
    "                           (cos(k*x/2 + (2/3)*pi))**2,\n",
    "                           (cos(k*x/2 + (4/3)*pi))**2),\n",
    "                  shaftwidth = (a/d)/2)\n",
    "\n",
    "    Psi1_arrows.append(Psi1_x)\n",
    "    \n",
    "    Psi2_x = arrow(pos = vector(x, y2, 0),\n",
    "                  axis = vector(0, A*cos(k2*x), A*sin(k2*x)),\n",
    "                  color = vector((cos(k2*x/2))**2,\n",
    "                           (cos(k2*x/2 + (2/3)*pi))**2,\n",
    "                           (cos(k2*x/2 + (4/3)*pi))**2),\n",
    "                  shaftwidth = (a/d)/2)\n",
    "\n",
    "    Psi2_arrows.append(Psi2_x)\n",
    "    \n",
    "    Psi_net = arrow(pos = vector(x, ynet,0),\n",
    "                    axis = vector(0,0,0),\n",
    "                    color = vector(0,0,0),\n",
    "                    shaftwidth = (a/d)/2)\n",
    "    \n",
    "    Prob_dens_net_x = cylinder(pos = vector(x - (1/2)*(a/d), -20, 0),\n",
    "                           axis = vector(a/d, 0, 0),\n",
    "                           radius = 0,\n",
    "                           color = color.white)\n",
    " \n",
    "    Psi_net_arrows.append(Psi_net)\n",
    "    Prob_dens_net.append(Prob_dens_net_x)\n",
    "                                   \n",
    "#While loop to make the waves appear to move.  The .pos.x is important. \n",
    "#The Phase variable is used for the colors of the Phi_net phase to run right over time. \n",
    "while True:\n",
    "    rate(100)\n",
    "    for i in range(len(Psi1_arrows)):\n",
    "        Psi1_arrows[i].axis = vector(0,\n",
    "                                A*cos(k*Psi1_arrows[i].pos.x - E*t),\n",
    "                                A*sin(k*Psi1_arrows[i].pos.x - E*t))\n",
    "\n",
    "        Psi1_arrows[i].color = vector((cos((k*Psi1_arrows[i].pos.x - E*t)/2))**2,\n",
    "                                 (cos((k*Psi1_arrows[i].pos.x - E*t)/2 + (2/3)*pi))**2,\n",
    "                                 (cos((k*Psi1_arrows[i].pos.x - E*t)/2 + (4/3)*pi))**2)\n",
    "\n",
    "        Psi2_arrows[i].axis = vector(0,\n",
    "                                A*cos(k2*Psi2_arrows[i].pos.x - E2*t),\n",
    "                                A*sin(k2*Psi2_arrows[i].pos.x - E2*t))\n",
    "\n",
    "        Psi2_arrows[i].color = vector((cos((k2*Psi2_arrows[i].pos.x - E2*t)/2))**2,\n",
    "                                 (cos((k2*Psi2_arrows[i].pos.x - E2*t)/2 + (2/3)*pi))**2,\n",
    "                                 (cos((k2*Psi2_arrows[i].pos.x - E2*t)/2 + (4/3)*pi))**2)\n",
    "        \n",
    "        Psi_net_arrows[i].axis = Psi1_arrows[i].axis + Psi2_arrows[i].axis\n",
    "        \n",
    "        Phase = np.arctan2(Psi_net_arrows[i].axis.z, Psi_net_arrows[i].axis.y)\n",
    "\n",
    "        Psi_net_arrows[i].color = vector((cos(Phase/2))**2,\n",
    "                                 (cos((Phase)/2 + (2/3)*pi))**2,\n",
    "                                 (cos((Phase)/2 + (4/3)*pi))**2)\n",
    "        \n",
    "        Prob_dens_net[i].radius = PDSF*sqrt(Psi_net_arrows[i].axis.y**2 + Psi_net_arrows[i].axis.z**2)\n",
    "   \n",
    "    t = t + dt"
   ]
  },
  {
   "cell_type": "code",
   "execution_count": null,
   "metadata": {
    "collapsed": true
   },
   "outputs": [],
   "source": []
  },
  {
   "cell_type": "code",
   "execution_count": null,
   "metadata": {
    "collapsed": false
   },
   "outputs": [],
   "source": []
  },
  {
   "cell_type": "code",
   "execution_count": null,
   "metadata": {
    "collapsed": false
   },
   "outputs": [],
   "source": []
  },
  {
   "cell_type": "code",
   "execution_count": null,
   "metadata": {
    "collapsed": true
   },
   "outputs": [],
   "source": []
  }
 ],
 "metadata": {
  "anaconda-cloud": {},
  "kernelspec": {
   "display_name": "Python [conda root]",
   "language": "python",
   "name": "conda-root-py"
  },
  "language_info": {
   "codemirror_mode": {
    "name": "ipython",
    "version": 2
   },
   "file_extension": ".py",
   "mimetype": "text/x-python",
   "name": "python",
   "nbconvert_exporter": "python",
   "pygments_lexer": "ipython2",
   "version": "2.7.12"
  }
 },
 "nbformat": 4,
 "nbformat_minor": 0
}
